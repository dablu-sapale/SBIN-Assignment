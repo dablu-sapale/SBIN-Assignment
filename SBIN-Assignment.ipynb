{
 "cells": [
  {
   "cell_type": "code",
   "execution_count": 2,
   "id": "c9afde26-97d0-4f37-9177-0789f8dd3d88",
   "metadata": {},
   "outputs": [],
   "source": [
    "import pandas as pd"
   ]
  },
  {
   "cell_type": "code",
   "execution_count": 3,
   "id": "6f147cac-0cbf-4dcd-b6fd-dace2cbcb47f",
   "metadata": {},
   "outputs": [],
   "source": [
    "df=pd.read_csv('SBIN_Data.csv')"
   ]
  },
  {
   "cell_type": "code",
   "execution_count": 4,
   "id": "2baa6eb5-928f-4d9f-8275-1528cda47cf0",
   "metadata": {},
   "outputs": [
    {
     "name": "stderr",
     "output_type": "stream",
     "text": [
      "C:\\Users\\sapal\\AppData\\Local\\Temp\\ipykernel_17436\\59409685.py:2: UserWarning: Could not infer format, so each element will be parsed individually, falling back to `dateutil`. To ensure parsing is consistent and as-expected, please specify a format.\n",
      "  df['Time'] = pd.to_datetime(df['Time'])\n"
     ]
    },
    {
     "name": "stdout",
     "output_type": "stream",
     "text": [
      "                    Time  Volume  volume_rank\n",
      "0    2024-04-12 09:15:00   89481         22.0\n",
      "1    2024-04-12 09:16:00   48965         21.0\n",
      "2    2024-04-12 09:17:00   65729         12.0\n",
      "3    2024-04-12 09:18:00   47909         18.0\n",
      "4    2024-04-12 09:19:00   27645         20.0\n",
      "...                  ...     ...          ...\n",
      "8245 2024-04-12 15:25:00  161605          2.0\n",
      "8246 2024-04-12 15:26:00  143774          3.0\n",
      "8247 2024-04-12 15:27:00  166278          2.0\n",
      "8248 2024-04-12 15:28:00  138018          3.0\n",
      "8249 2024-04-12 15:29:00   54342          5.0\n",
      "\n",
      "[8250 rows x 3 columns]\n"
     ]
    }
   ],
   "source": [
    "# Convert the timestamp to datetime \n",
    "df['Time'] = pd.to_datetime(df['Time'])\n",
    "\n",
    "# Extract the time component from the timestamp\n",
    "df['time'] = df['Time'].dt.time\n",
    "\n",
    "# Group by date and time, and calculate the rank of volume for the last 5 days\n",
    "df['volume_rank'] = df.groupby(['time', df['Time'].dt.date])['Volume'].rank(ascending=False, method='first')\n",
    "\n",
    "# Filter the data to get only the last 5 days\n",
    "last_5_days = df['Time'].dt.date.unique()[-5:]\n",
    "\n",
    "# Filter the DataFrame to include only the data for the last 5 days\n",
    "df_last_5_days = df[df['Time'].dt.date.isin(last_5_days)]\n",
    "\n",
    "# Output the DataFrame with volume ranks for the last 5 days\n",
    "print(df_last_5_days[['Time', 'Volume', 'volume_rank']])\n"
   ]
  },
  {
   "cell_type": "code",
   "execution_count": 5,
   "id": "2beb3623-a316-4ccb-b688-d3235407981a",
   "metadata": {},
   "outputs": [],
   "source": [
    "# Save the DataFrame with the new 'rank' column to the same Excel file\n",
    "df.to_excel('Solution.xlsx', index=False)"
   ]
  },
  {
   "cell_type": "code",
   "execution_count": null,
   "id": "79b65976-bb59-4669-9b0f-a4667f413c23",
   "metadata": {},
   "outputs": [],
   "source": []
  }
 ],
 "metadata": {
  "kernelspec": {
   "display_name": "Python 3 (ipykernel)",
   "language": "python",
   "name": "python3"
  },
  "language_info": {
   "codemirror_mode": {
    "name": "ipython",
    "version": 3
   },
   "file_extension": ".py",
   "mimetype": "text/x-python",
   "name": "python",
   "nbconvert_exporter": "python",
   "pygments_lexer": "ipython3",
   "version": "3.8.3"
  }
 },
 "nbformat": 4,
 "nbformat_minor": 5
}
